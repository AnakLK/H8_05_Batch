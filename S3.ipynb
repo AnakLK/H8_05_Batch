{
 "cells": [
  {
   "cell_type": "code",
   "execution_count": 5,
   "metadata": {},
   "outputs": [
    {
     "name": "stdout",
     "output_type": "stream",
     "text": [
      "8\n"
     ]
    },
    {
     "name": "stdout",
     "output_type": "stream",
     "text": [
      "Halo aku alvaro\n"
     ]
    }
   ],
   "source": [
    "#Function, Basic Module, and Package\n",
    "\n",
    "# Function definition is here\n",
    "def my_function(p, l):\n",
    "    \"Function untuk menghitung luas\"\n",
    "    print(p * l)\n",
    "\n",
    "# Now u can call my_function\n",
    "my_function(2,4)\n",
    "\n",
    "def printme( str ):\n",
    "    \"This prints a passed string into this function\"\n",
    "    print(str)\n",
    "    return\n",
    "\n",
    "printme(\"Halo aku alvaro\")"
   ]
  },
  {
   "cell_type": "code",
   "execution_count": 10,
   "metadata": {},
   "outputs": [
    {
     "name": "stdout",
     "output_type": "stream",
     "text": [
      "Values inside the function:  [2, 4, 6, [1, 3, 5]]\n",
      "Values outside the function:  [2, 4, 6, [1, 3, 5]]\n"
     ]
    }
   ],
   "source": [
    "def changeme( random ):\n",
    "    random.append([1,3,5]);\n",
    "    print(\"Values inside the function: \", random)\n",
    "    return\n",
    "\n",
    "random = [2,4,6];\n",
    "changeme( random );\n",
    "print(\"Values outside the function: \", random)"
   ]
  },
  {
   "cell_type": "code",
   "execution_count": 6,
   "metadata": {},
   "outputs": [
    {
     "name": "stdout",
     "output_type": "stream",
     "text": [
      "Inside the function local total :  30\n",
      "Outside the function global total :  0\n"
     ]
    }
   ],
   "source": [
    "total = 0;\n",
    "\n",
    "def sum(arg1, arg2):\n",
    "\n",
    "    total = arg1 + arg2;\n",
    "    print(\"Inside the function local total : \", total)\n",
    "    return total;\n",
    "\n",
    "sum(10, 20)\n",
    "print(\"Outside the function global total : \", total)"
   ]
  },
  {
   "cell_type": "code",
   "execution_count": 30,
   "metadata": {},
   "outputs": [
    {
     "data": {
      "text/plain": [
       "'Hacktiv8-PTP Python for Data Science'"
      ]
     },
     "execution_count": 30,
     "metadata": {},
     "output_type": "execute_result"
    }
   ],
   "source": [
    "import mod #import satu module mod\n",
    "\n",
    "mod.a\n",
    "\n",
    "from mod import s, a #import objek spesifik dari module mod\n",
    "\n",
    "s\n",
    "\n",
    "import mod as my_mod\n",
    "\n",
    "s"
   ]
  },
  {
   "cell_type": "code",
   "execution_count": 50,
   "metadata": {},
   "outputs": [
    {
     "data": {
      "text/plain": [
       "['__builtins__',\n",
       " '__cached__',\n",
       " '__doc__',\n",
       " '__file__',\n",
       " '__loader__',\n",
       " '__name__',\n",
       " '__package__',\n",
       " '__spec__']"
      ]
     },
     "execution_count": 50,
     "metadata": {},
     "output_type": "execute_result"
    }
   ],
   "source": [
    "#dir()\n",
    "\n",
    "qux = [1, 2, 3, 4, 5]\n",
    "dir()"
   ]
  },
  {
   "cell_type": "code",
   "execution_count": 1,
   "metadata": {},
   "outputs": [
    {
     "name": "stdout",
     "output_type": "stream",
     "text": [
      "found the needle at position 2\n"
     ]
    }
   ],
   "source": [
    "def findNeedle(haystack):\n",
    "    for idx, item in enumerate(haystack):\n",
    "        if item == \"needle\":\n",
    "            return f\"found the needle at position {idx}\"\n",
    "\n",
    "    # If the needle was not found in the haystack\n",
    "    return \"needle not found in the haystack\"\n",
    "\n",
    "# Example usage:\n",
    "haystack = [\"apple\", \"banana\", \"needle\", \"orange\", \"grape\"]\n",
    "result = findNeedle(haystack)\n",
    "print(result)  # This will print \"found the needle at position 2\"\n"
   ]
  }
 ],
 "metadata": {
  "kernelspec": {
   "display_name": "Python 3",
   "language": "python",
   "name": "python3"
  },
  "language_info": {
   "codemirror_mode": {
    "name": "ipython",
    "version": 3
   },
   "file_extension": ".py",
   "mimetype": "text/x-python",
   "name": "python",
   "nbconvert_exporter": "python",
   "pygments_lexer": "ipython3",
   "version": "3.8.5"
  },
  "orig_nbformat": 4
 },
 "nbformat": 4,
 "nbformat_minor": 2
}
