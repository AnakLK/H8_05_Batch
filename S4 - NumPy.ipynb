{
 "cells": [
  {
   "cell_type": "code",
   "execution_count": 2,
   "id": "563ea0cd",
   "metadata": {},
   "outputs": [],
   "source": [
    "import numpy as np"
   ]
  },
  {
   "cell_type": "code",
   "execution_count": 5,
   "id": "6793fac4",
   "metadata": {},
   "outputs": [],
   "source": [
    "a = np.array([ 5, 6, 7, 8]) #buat array secara manual"
   ]
  },
  {
   "cell_type": "code",
   "execution_count": 7,
   "id": "46eebad2",
   "metadata": {},
   "outputs": [
    {
     "name": "stdout",
     "output_type": "stream",
     "text": [
      "8\n"
     ]
    }
   ],
   "source": [
    "print(a[-1])"
   ]
  },
  {
   "cell_type": "code",
   "execution_count": 7,
   "id": "c6823d14",
   "metadata": {},
   "outputs": [
    {
     "data": {
      "text/plain": [
       "array([0., 0., 0., 0., 0., 0.])"
      ]
     },
     "execution_count": 7,
     "metadata": {},
     "output_type": "execute_result"
    }
   ],
   "source": [
    "np.zeros(6)"
   ]
  },
  {
   "cell_type": "code",
   "execution_count": 8,
   "id": "80b051e7",
   "metadata": {},
   "outputs": [
    {
     "data": {
      "text/plain": [
       "array([1., 1., 1., 1., 1., 1., 1., 1., 1.])"
      ]
     },
     "execution_count": 8,
     "metadata": {},
     "output_type": "execute_result"
    }
   ],
   "source": [
    "np.ones(9)"
   ]
  },
  {
   "cell_type": "code",
   "execution_count": 3,
   "id": "3362073b",
   "metadata": {},
   "outputs": [
    {
     "name": "stdout",
     "output_type": "stream",
     "text": [
      "[0 5]\n"
     ]
    }
   ],
   "source": [
    "print(np.arange(0,10,5))"
   ]
  },
  {
   "cell_type": "code",
   "execution_count": 4,
   "id": "f86bde6c",
   "metadata": {},
   "outputs": [
    {
     "name": "stdout",
     "output_type": "stream",
     "text": [
      "[1 4 7]\n"
     ]
    }
   ],
   "source": [
    "print(np.arange(1,9,3)) #buat array dengan range tertentu"
   ]
  },
  {
   "cell_type": "code",
   "execution_count": 8,
   "id": "74d7d143",
   "metadata": {},
   "outputs": [],
   "source": [
    "arr = np.array([1, 2, 3])"
   ]
  },
  {
   "cell_type": "code",
   "execution_count": 12,
   "id": "c3263344",
   "metadata": {},
   "outputs": [],
   "source": [
    "a = arr"
   ]
  },
  {
   "cell_type": "code",
   "execution_count": 15,
   "id": "b61efa99",
   "metadata": {},
   "outputs": [
    {
     "data": {
      "text/plain": [
       "array([1, 2, 3, 4, 5])"
      ]
     },
     "execution_count": 15,
     "metadata": {},
     "output_type": "execute_result"
    }
   ],
   "source": [
    "np.append(a, [4,5]) #menambahkan nilai ke dalam array "
   ]
  },
  {
   "cell_type": "code",
   "execution_count": 16,
   "id": "9a499731",
   "metadata": {},
   "outputs": [
    {
     "name": "stdout",
     "output_type": "stream",
     "text": [
      "[1 2 3 4 5]\n"
     ]
    }
   ],
   "source": [
    "print(np.append(a, [4,5]))"
   ]
  },
  {
   "cell_type": "code",
   "execution_count": 17,
   "id": "179ed0ea",
   "metadata": {},
   "outputs": [
    {
     "data": {
      "text/plain": [
       "array([1, 3])"
      ]
     },
     "execution_count": 17,
     "metadata": {},
     "output_type": "execute_result"
    }
   ],
   "source": [
    "np.delete(a, -2) #menghapus nilai di dalam array"
   ]
  },
  {
   "cell_type": "code",
   "execution_count": 42,
   "id": "fb036f9e",
   "metadata": {},
   "outputs": [],
   "source": [
    "a_array = np.array([[[3,7,4,2],\n",
    "                     [2,3,4,1]],\n",
    "                \n",
    "                    [[2,3,6,4],\n",
    "                     [5,1,3,7]]])"
   ]
  },
  {
   "cell_type": "code",
   "execution_count": 19,
   "id": "46e9b6b6",
   "metadata": {},
   "outputs": [
    {
     "data": {
      "text/plain": [
       "array([0, 2, 3, 4, 7])"
      ]
     },
     "execution_count": 19,
     "metadata": {},
     "output_type": "execute_result"
    }
   ],
   "source": [
    "np.sort(a) #mengurutkan angka di dalam array "
   ]
  },
  {
   "cell_type": "code",
   "execution_count": 30,
   "id": "c1e23ba0",
   "metadata": {},
   "outputs": [
    {
     "data": {
      "text/plain": [
       "3"
      ]
     },
     "execution_count": 30,
     "metadata": {},
     "output_type": "execute_result"
    }
   ],
   "source": [
    "a_array.ndim"
   ]
  },
  {
   "cell_type": "code",
   "execution_count": 31,
   "id": "49b39e06",
   "metadata": {},
   "outputs": [
    {
     "data": {
      "text/plain": [
       "20"
      ]
     },
     "execution_count": 31,
     "metadata": {},
     "output_type": "execute_result"
    }
   ],
   "source": [
    "a_array.size"
   ]
  },
  {
   "cell_type": "code",
   "execution_count": 32,
   "id": "b8dfe71d",
   "metadata": {},
   "outputs": [
    {
     "data": {
      "text/plain": [
       "(2, 2, 5)"
      ]
     },
     "execution_count": 32,
     "metadata": {},
     "output_type": "execute_result"
    }
   ],
   "source": [
    "a_array.shape #(a,b,c) a for row, b for colomn, c for how many inside"
   ]
  },
  {
   "cell_type": "code",
   "execution_count": 43,
   "id": "6f75726d",
   "metadata": {},
   "outputs": [
    {
     "data": {
      "text/plain": [
       "array([[[3, 7],\n",
       "        [4, 2],\n",
       "        [2, 3],\n",
       "        [4, 1]],\n",
       "\n",
       "       [[2, 3],\n",
       "        [6, 4],\n",
       "        [5, 1],\n",
       "        [3, 7]]])"
      ]
     },
     "execution_count": 43,
     "metadata": {},
     "output_type": "execute_result"
    }
   ],
   "source": [
    "a_array.reshape(2,4,2) "
   ]
  },
  {
   "cell_type": "code",
   "execution_count": 49,
   "id": "074cbca1",
   "metadata": {},
   "outputs": [
    {
     "name": "stdout",
     "output_type": "stream",
     "text": [
      "[[[3 7 4 2]\n",
      "  [2 3 4 1]]\n",
      "\n",
      " [[2 3 6 4]\n",
      "  [5 1 3 7]]]\n"
     ]
    }
   ],
   "source": [
    "print(a_array)"
   ]
  },
  {
   "cell_type": "code",
   "execution_count": 44,
   "id": "0a894a1a",
   "metadata": {},
   "outputs": [],
   "source": [
    "a2_array = a_array[np.newaxis]"
   ]
  },
  {
   "cell_type": "code",
   "execution_count": 116,
   "id": "afeafdc8",
   "metadata": {},
   "outputs": [],
   "source": [
    "a3_array = np.array([[[3,4,5,6,7], [2,3,4,5,5]], \n",
    "                     [[1,2,3,4,5], [1,2,5,6,7]],\n",
    "                     [[1,2,3,4,5], [7,8,4,0,2]]])\n"
   ]
  },
  {
   "cell_type": "code",
   "execution_count": 118,
   "id": "b29b7c53",
   "metadata": {},
   "outputs": [
    {
     "name": "stdout",
     "output_type": "stream",
     "text": [
      "[[[[3 4 5 6 7]\n",
      "   [2 3 4 5 5]]]\n",
      "\n",
      "\n",
      " [[[1 2 3 4 5]\n",
      "   [1 2 5 6 7]]]\n",
      "\n",
      "\n",
      " [[[1 2 3 4 5]\n",
      "   [7 8 4 0 2]]]]\n"
     ]
    }
   ],
   "source": [
    "col_vector = a3_array[:, np.newaxis]\n",
    "print(col_vector)"
   ]
  },
  {
   "cell_type": "code",
   "execution_count": 113,
   "id": "a555a9d9",
   "metadata": {},
   "outputs": [
    {
     "name": "stdout",
     "output_type": "stream",
     "text": [
      "[[[3 4 5 6 7]\n",
      "  [2 3 4 5 5]\n",
      "  [1 2 3 4 5]\n",
      "  [1 2 5 6 7]\n",
      "  [1 2 3 4 5]\n",
      "  [7 8 4 0 2]]]\n"
     ]
    }
   ],
   "source": [
    "row_vector = a3_array[np.newaxis, :]\n",
    "print(row_vector)"
   ]
  },
  {
   "cell_type": "code",
   "execution_count": 117,
   "id": "8b3f0a78",
   "metadata": {},
   "outputs": [
    {
     "name": "stdout",
     "output_type": "stream",
     "text": [
      "(3, 2, 5)\n"
     ]
    }
   ],
   "source": [
    "print(a3_array.shape)"
   ]
  },
  {
   "cell_type": "code",
   "execution_count": 126,
   "id": "30bd7cc4",
   "metadata": {},
   "outputs": [],
   "source": [
    "b = np.expand_dims(a3_array, axis=1) #Add new dimension"
   ]
  },
  {
   "cell_type": "code",
   "execution_count": 127,
   "id": "cc974864",
   "metadata": {},
   "outputs": [
    {
     "name": "stdout",
     "output_type": "stream",
     "text": [
      "(3, 1, 2, 5)\n"
     ]
    }
   ],
   "source": [
    "print(b.shape)"
   ]
  },
  {
   "cell_type": "code",
   "execution_count": 128,
   "id": "c5f68812",
   "metadata": {},
   "outputs": [
    {
     "name": "stdout",
     "output_type": "stream",
     "text": [
      "[[[3 4 5 6 7]\n",
      "  [2 3 4 5 5]]\n",
      "\n",
      " [[1 2 3 4 5]\n",
      "  [1 2 5 6 7]]\n",
      "\n",
      " [[1 2 3 4 5]\n",
      "  [7 8 4 0 2]]]\n"
     ]
    }
   ],
   "source": [
    "print(a3_array)"
   ]
  },
  {
   "cell_type": "code",
   "execution_count": 199,
   "id": "8f661907",
   "metadata": {},
   "outputs": [
    {
     "name": "stdout",
     "output_type": "stream",
     "text": [
      "[3 4 5 6 7 8 9]\n"
     ]
    }
   ],
   "source": [
    "data1 = np.array([[2,3,4], [2,5,6], [7,8,9]])\n",
    "data2 = np.array([[11,23,44], [22,31,45], [21,67,89]])\n",
    "DataMoreThanTwo = data1[data1>2]\n",
    "print(DataMoreThanTwo)"
   ]
  },
  {
   "cell_type": "code",
   "execution_count": 206,
   "id": "4fb052fa",
   "metadata": {},
   "outputs": [
    {
     "name": "stdout",
     "output_type": "stream",
     "text": [
      "[[ 2  3  4 11 23 44]\n",
      " [ 2  5  6 22 31 45]\n",
      " [ 7  8  9 21 67 89]]\n"
     ]
    }
   ],
   "source": [
    "data3 = np.hstack((data1, data2))\n",
    "print(data3)"
   ]
  },
  {
   "cell_type": "code",
   "execution_count": 207,
   "id": "4c1b1498",
   "metadata": {},
   "outputs": [
    {
     "name": "stdout",
     "output_type": "stream",
     "text": [
      "[[ 2  3  4]\n",
      " [ 2  5  6]\n",
      " [ 7  8  9]\n",
      " [11 23 44]\n",
      " [22 31 45]\n",
      " [21 67 89]]\n"
     ]
    }
   ],
   "source": [
    "data3 = np.vstack((data1, data2))\n",
    "print(data3)"
   ]
  },
  {
   "cell_type": "code",
   "execution_count": 211,
   "id": "5f4eee9a",
   "metadata": {},
   "outputs": [
    {
     "data": {
      "text/plain": [
       "[array([1, 2]), array([3, 4]), array([5, 6]), array([7, 8])]"
      ]
     },
     "execution_count": 211,
     "metadata": {},
     "output_type": "execute_result"
    }
   ],
   "source": [
    "data4 = np.array([1,2,3,4,5,6,7,8])\n",
    "#np.hsplit(data4, 4)"
   ]
  },
  {
   "cell_type": "code",
   "execution_count": 219,
   "id": "b3326067",
   "metadata": {},
   "outputs": [
    {
     "data": {
      "text/plain": [
       "array([1, 2, 3, 4, 5, 6, 7, 8])"
      ]
     },
     "execution_count": 219,
     "metadata": {},
     "output_type": "execute_result"
    }
   ],
   "source": [
    "data5 = data4.view()\n",
    "data5"
   ]
  },
  {
   "cell_type": "code",
   "execution_count": 223,
   "id": "b330ed24",
   "metadata": {},
   "outputs": [
    {
     "data": {
      "text/plain": [
       "array([1])"
      ]
     },
     "execution_count": 223,
     "metadata": {},
     "output_type": "execute_result"
    }
   ],
   "source": [
    "data5 = data4[0:1].copy()\n",
    "data5"
   ]
  },
  {
   "cell_type": "code",
   "execution_count": 241,
   "id": "b4229f5a",
   "metadata": {},
   "outputs": [
    {
     "data": {
      "text/plain": [
       "(3, 2, 5)"
      ]
     },
     "execution_count": 241,
     "metadata": {},
     "output_type": "execute_result"
    }
   ],
   "source": [
    "a3_array.shape"
   ]
  },
  {
   "cell_type": "code",
   "execution_count": 248,
   "id": "f32c1bf9",
   "metadata": {},
   "outputs": [
    {
     "name": "stdout",
     "output_type": "stream",
     "text": [
      "(2, 5)\n",
      "(3, 5)\n"
     ]
    }
   ],
   "source": [
    "print(a3_array.sum(axis = 0).shape) #sum the rows\n",
    "print(a3_array.sum(axis = 1).shape) #sum the column"
   ]
  },
  {
   "cell_type": "code",
   "execution_count": 270,
   "id": "b075ed03",
   "metadata": {},
   "outputs": [],
   "source": [
    "b1 = np.array([20,10,5])\n",
    "b2 = np.array([30,5,6])"
   ]
  },
  {
   "cell_type": "code",
   "execution_count": 259,
   "id": "65d37412",
   "metadata": {},
   "outputs": [
    {
     "data": {
      "text/plain": [
       "array([52, 42, 37])"
      ]
     },
     "execution_count": 259,
     "metadata": {},
     "output_type": "execute_result"
    }
   ],
   "source": [
    "b1 + b2.sum() * 2"
   ]
  },
  {
   "cell_type": "code",
   "execution_count": 272,
   "id": "21de5716",
   "metadata": {},
   "outputs": [
    {
     "data": {
      "text/plain": [
       "array([30, 10,  6])"
      ]
     },
     "execution_count": 272,
     "metadata": {},
     "output_type": "execute_result"
    }
   ],
   "source": [
    "b3 = np.vstack((b1, b2))\n",
    "b3.max(axis=0)"
   ]
  },
  {
   "cell_type": "code",
   "execution_count": null,
   "id": "5f4edf4c",
   "metadata": {},
   "outputs": [],
   "source": []
  }
 ],
 "metadata": {
  "kernelspec": {
   "display_name": "Python 3 (ipykernel)",
   "language": "python",
   "name": "python3"
  },
  "language_info": {
   "codemirror_mode": {
    "name": "ipython",
    "version": 3
   },
   "file_extension": ".py",
   "mimetype": "text/x-python",
   "name": "python",
   "nbconvert_exporter": "python",
   "pygments_lexer": "ipython3",
   "version": "3.11.4"
  }
 },
 "nbformat": 4,
 "nbformat_minor": 5
}
