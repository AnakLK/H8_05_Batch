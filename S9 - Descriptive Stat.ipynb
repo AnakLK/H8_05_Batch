{
 "cells": [
  {
   "cell_type": "code",
   "execution_count": 1,
   "id": "79dd3e74",
   "metadata": {},
   "outputs": [],
   "source": [
    "import math\n",
    "import statistics\n",
    "import numpy as np\n",
    "import scipy.stats\n",
    "\n",
    "import pandas as pd\n",
    "\n",
    "import matplotlib as mpl\n",
    "import matplotlib.pyplot as plt\n",
    "import seaborn as sns"
   ]
  },
  {
   "cell_type": "code",
   "execution_count": 3,
   "id": "398a3cc2",
   "metadata": {},
   "outputs": [],
   "source": [
    "x = np.random.normal(loc=0,scale=1,size=10)"
   ]
  },
  {
   "cell_type": "code",
   "execution_count": 4,
   "id": "5e70b1a3",
   "metadata": {},
   "outputs": [
    {
     "data": {
      "text/plain": [
       "array([ 0.35117473,  0.8778571 ,  0.7173232 ,  0.30164976,  1.75585759,\n",
       "       -0.49628939,  0.1667457 , -0.85575352, -1.14131643,  0.13606275])"
      ]
     },
     "execution_count": 4,
     "metadata": {},
     "output_type": "execute_result"
    }
   ],
   "source": [
    "x"
   ]
  },
  {
   "cell_type": "code",
   "execution_count": 5,
   "id": "e63374b4",
   "metadata": {},
   "outputs": [
    {
     "data": {
      "text/plain": [
       "0.18133114755689642"
      ]
     },
     "execution_count": 5,
     "metadata": {},
     "output_type": "execute_result"
    }
   ],
   "source": [
    "sum(x)/len(x)"
   ]
  },
  {
   "cell_type": "code",
   "execution_count": 6,
   "id": "cbbfdae2",
   "metadata": {},
   "outputs": [
    {
     "data": {
      "text/plain": [
       "0.18133114755689642"
      ]
     },
     "execution_count": 6,
     "metadata": {},
     "output_type": "execute_result"
    }
   ],
   "source": [
    "np.mean(x)"
   ]
  },
  {
   "cell_type": "code",
   "execution_count": 8,
   "id": "2f3702d7",
   "metadata": {},
   "outputs": [
    {
     "data": {
      "text/plain": [
       "0.18133114755689642"
      ]
     },
     "execution_count": 8,
     "metadata": {},
     "output_type": "execute_result"
    }
   ],
   "source": [
    "pd.Series(x).mean()"
   ]
  },
  {
   "cell_type": "code",
   "execution_count": 9,
   "id": "a96c8f75",
   "metadata": {},
   "outputs": [
    {
     "data": {
      "text/plain": [
       "0.23419772881031908"
      ]
     },
     "execution_count": 9,
     "metadata": {},
     "output_type": "execute_result"
    }
   ],
   "source": [
    "np.median(x)"
   ]
  },
  {
   "cell_type": "code",
   "execution_count": 11,
   "id": "5c2ac606",
   "metadata": {},
   "outputs": [],
   "source": [
    "y = [1,1,2,3,4,1,5,6,3,4,5,2,3,6]"
   ]
  },
  {
   "cell_type": "code",
   "execution_count": 13,
   "id": "5e30b507",
   "metadata": {},
   "outputs": [
    {
     "data": {
      "text/plain": [
       "1"
      ]
     },
     "execution_count": 13,
     "metadata": {},
     "output_type": "execute_result"
    }
   ],
   "source": [
    "statistics.mode(y)"
   ]
  },
  {
   "cell_type": "code",
   "execution_count": 16,
   "id": "9187bfe1",
   "metadata": {},
   "outputs": [
    {
     "data": {
      "text/plain": [
       "<bound method Series.mode of 0     1\n",
       "1     1\n",
       "2     2\n",
       "3     3\n",
       "4     4\n",
       "5     1\n",
       "6     5\n",
       "7     6\n",
       "8     3\n",
       "9     4\n",
       "10    5\n",
       "11    2\n",
       "12    3\n",
       "13    6\n",
       "dtype: int64>"
      ]
     },
     "execution_count": 16,
     "metadata": {},
     "output_type": "execute_result"
    }
   ],
   "source": [
    "pd.Series(y).mode"
   ]
  }
 ],
 "metadata": {
  "kernelspec": {
   "display_name": "Python 3 (ipykernel)",
   "language": "python",
   "name": "python3"
  },
  "language_info": {
   "codemirror_mode": {
    "name": "ipython",
    "version": 3
   },
   "file_extension": ".py",
   "mimetype": "text/x-python",
   "name": "python",
   "nbconvert_exporter": "python",
   "pygments_lexer": "ipython3",
   "version": "3.11.4"
  }
 },
 "nbformat": 4,
 "nbformat_minor": 5
}
